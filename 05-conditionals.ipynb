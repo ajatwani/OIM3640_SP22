{
 "cells": [
  {
   "cell_type": "markdown",
   "metadata": {},
   "source": [
    "# Conditionals\n",
    "* programming of decisions\n",
    "* specific code run only under specific conditions\n",
    "* can also be used to regulate repetition\n",
    "* other relevant keywords: break, continue, pass"
   ]
  },
  {
   "cell_type": "markdown",
   "metadata": {},
   "source": [
    "### if\n",
    "* code in an if block only runs if something is True\n",
    "* False can be True!\n",
    "* True is anything that is not 0\n",
    "* It may be best to write a comparison"
   ]
  },
  {
   "cell_type": "code",
   "execution_count": 3,
   "metadata": {},
   "outputs": [
    {
     "name": "stdout",
     "output_type": "stream",
     "text": [
      "Do this\n"
     ]
    }
   ],
   "source": [
    "if True:\n",
    "    print(\"Do this\")"
   ]
  },
  {
   "cell_type": "code",
   "execution_count": 19,
   "metadata": {},
   "outputs": [
    {
     "name": "stdout",
     "output_type": "stream",
     "text": [
      "-5\n",
      "-4\n",
      "-3\n",
      "-2\n",
      "-1\n",
      "1\n",
      "2\n",
      "3\n",
      "4\n"
     ]
    }
   ],
   "source": [
    "# notice in this example 0 does not get printed since 0 evaluates to False\n",
    "for number in range(-5, 5):\n",
    "    if number:\n",
    "        print(number)"
   ]
  },
  {
   "cell_type": "code",
   "execution_count": null,
   "metadata": {},
   "outputs": [],
   "source": [
    "# comparison operators: >, >=, <, <=, ==, !="
   ]
  },
  {
   "cell_type": "markdown",
   "metadata": {},
   "source": [
    "### if...else\n",
    "* one of the blocks will definitely run"
   ]
  },
  {
   "cell_type": "code",
   "execution_count": 5,
   "metadata": {
    "scrolled": true
   },
   "outputs": [
    {
     "name": "stdout",
     "output_type": "stream",
     "text": [
      "Do that\n"
     ]
    }
   ],
   "source": [
    "if False:\n",
    "    print(\"Do this\")\n",
    "else:\n",
    "    print(\"Do that\")\n",
    "        \n",
    "#code \n",
    "#code"
   ]
  },
  {
   "cell_type": "code",
   "execution_count": 9,
   "metadata": {},
   "outputs": [
    {
     "name": "stdout",
     "output_type": "stream",
     "text": [
      "Enter a number -1\n"
     ]
    }
   ],
   "source": [
    "number = int(input(\"Enter a number \"))\n",
    "if number > 0:\n",
    "    print(\"That's positive!\")\n",
    "else:\n",
    "    print(\"That's negative\")\n",
    "# code"
   ]
  },
  {
   "cell_type": "markdown",
   "metadata": {},
   "source": [
    "### if... elif... (else)\n",
    "* used when your selection is not binary\n",
    "* best practice is to use else as a catch all"
   ]
  },
  {
   "cell_type": "code",
   "execution_count": 23,
   "metadata": {},
   "outputs": [
    {
     "name": "stdout",
     "output_type": "stream",
     "text": [
      "Enter a number: a\n",
      "That's not a number\n"
     ]
    }
   ],
   "source": [
    "# isnumeric is one of the many methods of str data. \n",
    "# This code is not very elegant but it allows my class example to work they way we want\n",
    "# also demonstrates compound logical tests with and operator\n",
    "number = input(\"Enter a number: \")\n",
    "if number.isnumeric() and int(number) == 0:\n",
    "    print(\"That's Zero!\")\n",
    "elif number.isnumeric() > 0 and int(number) > 0:\n",
    "    print(\"That's positive\")\n",
    "elif number.isnumeric() and int(number) < 0:\n",
    "    print(\"That's negative\")    \n",
    "else:\n",
    "    print(\"That's not a number\")\n"
   ]
  },
  {
   "cell_type": "code",
   "execution_count": 1,
   "metadata": {},
   "outputs": [
    {
     "name": "stdout",
     "output_type": "stream",
     "text": [
      "Enter Y to continue anything else to exit: y\n",
      "let's continue\n"
     ]
    }
   ],
   "source": [
    "# more traditional compound test:\n",
    "\n",
    "choice = input(\"Enter Y to continue anything else to exit: \")\n",
    "if choice == 'Y' or choice == 'y':\n",
    "    print(\"let's continue\")\n",
    "else:\n",
    "    print(\"Goodbye!\")"
   ]
  },
  {
   "cell_type": "code",
   "execution_count": 3,
   "metadata": {},
   "outputs": [
    {
     "name": "stdout",
     "output_type": "stream",
     "text": [
      "Enter Y to continue anything else to exit: Y\n",
      "let's continue\n"
     ]
    }
   ],
   "source": [
    "# you could also write it like this\n",
    "choice = input(\"Enter Y to continue anything else to exit: \")\n",
    "if choice in 'yY':\n",
    "    print(\"let's continue\")\n",
    "else:\n",
    "    print(\"Goodbye!\")"
   ]
  },
  {
   "cell_type": "code",
   "execution_count": null,
   "metadata": {},
   "outputs": [],
   "source": [
    "choice = int(input(\"Enter a number:\"))\n",
    "if choice >= 10 and choice <= 20:\n",
    "    print(\"Your chose a number beteen 10 and 20\")\n",
    "else:\n",
    "    print (\"Your number is not between 10 and 20\")\n"
   ]
  },
  {
   "cell_type": "code",
   "execution_count": 6,
   "metadata": {},
   "outputs": [
    {
     "name": "stdout",
     "output_type": "stream",
     "text": [
      "Enter your favorite letter d\n",
      "Goodbye\n"
     ]
    }
   ],
   "source": [
    "choice = input(\"Enter your favorite letter \")\n",
    "if choice in 'abc':\n",
    "    print(\"I like {choice} too!\")\n",
    "print(\"Goodbye\")    \n"
   ]
  },
  {
   "cell_type": "code",
   "execution_count": 8,
   "metadata": {},
   "outputs": [
    {
     "name": "stdout",
     "output_type": "stream",
     "text": [
      "Enter your favorite letter d\n",
      "I like d too!\n",
      "Goodbye\n"
     ]
    }
   ],
   "source": [
    "choice = input(\"Enter your favorite letter \")\n",
    "if choice not in 'abc':\n",
    "    print(f\"I like {choice} too!\")\n",
    "print(\"Goodbye\") "
   ]
  },
  {
   "cell_type": "code",
   "execution_count": 11,
   "metadata": {},
   "outputs": [
    {
     "name": "stdout",
     "output_type": "stream",
     "text": [
      "Enter rock, paper or scissors: grenade\n",
      "That is not a valid choice!\n"
     ]
    }
   ],
   "source": [
    "\n",
    "choices = ['rock', 'paper', 'scissors']\n",
    "choice = input(\"Enter rock, paper or scissors: \")\n",
    "if choice in choices:\n",
    "    print(f\"You chose {choice}\")\n",
    "else:\n",
    "    print(\"That is not a valid choice!\")\n",
    "\n"
   ]
  },
  {
   "cell_type": "code",
   "execution_count": null,
   "metadata": {},
   "outputs": [],
   "source": []
  },
  {
   "cell_type": "code",
   "execution_count": null,
   "metadata": {},
   "outputs": [],
   "source": []
  },
  {
   "cell_type": "code",
   "execution_count": null,
   "metadata": {},
   "outputs": [],
   "source": []
  },
  {
   "cell_type": "markdown",
   "metadata": {},
   "source": [
    "### while or conditional (game) loop \n",
    "* do something until soomething else is true\n",
    "* need to take care not to create infinite loops\n",
    "* like an if -- code inside the loop may not run ever"
   ]
  },
  {
   "cell_type": "code",
   "execution_count": null,
   "metadata": {},
   "outputs": [],
   "source": []
  },
  {
   "cell_type": "code",
   "execution_count": null,
   "metadata": {},
   "outputs": [],
   "source": []
  },
  {
   "cell_type": "code",
   "execution_count": null,
   "metadata": {},
   "outputs": [],
   "source": []
  },
  {
   "cell_type": "code",
   "execution_count": null,
   "metadata": {},
   "outputs": [],
   "source": []
  },
  {
   "cell_type": "markdown",
   "metadata": {},
   "source": [
    "### changing iteration \n",
    "* continue\n",
    "* break\n",
    "* pass"
   ]
  },
  {
   "cell_type": "code",
   "execution_count": null,
   "metadata": {},
   "outputs": [],
   "source": []
  },
  {
   "cell_type": "code",
   "execution_count": null,
   "metadata": {},
   "outputs": [],
   "source": []
  },
  {
   "cell_type": "code",
   "execution_count": null,
   "metadata": {},
   "outputs": [],
   "source": []
  },
  {
   "cell_type": "code",
   "execution_count": null,
   "metadata": {},
   "outputs": [],
   "source": []
  }
 ],
 "metadata": {
  "kernelspec": {
   "display_name": "Python 3 (ipykernel)",
   "language": "python",
   "name": "python3"
  },
  "language_info": {
   "codemirror_mode": {
    "name": "ipython",
    "version": 3
   },
   "file_extension": ".py",
   "mimetype": "text/x-python",
   "name": "python",
   "nbconvert_exporter": "python",
   "pygments_lexer": "ipython3",
   "version": "3.9.7"
  }
 },
 "nbformat": 4,
 "nbformat_minor": 4
}
