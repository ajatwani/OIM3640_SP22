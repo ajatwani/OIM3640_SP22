{
 "cells": [
  {
   "cell_type": "markdown",
   "metadata": {},
   "source": [
    "# Working with JSON\n",
    "* JSON is the preferred method to share data accross platforms\n",
    "* Many calls to web-based service return JSON\n",
    "* Dicts are very nearly JSON\n",
    "* Main methods are load, loads, dump dumps"
   ]
  },
  {
   "cell_type": "code",
   "execution_count": 5,
   "metadata": {},
   "outputs": [],
   "source": [
    "import json"
   ]
  },
  {
   "cell_type": "code",
   "execution_count": 2,
   "metadata": {},
   "outputs": [],
   "source": [
    "accounts = {'accounts': [\n",
    "    {'account': 100, 'Name' : 'Smith', 'Balance' : 24.98},\n",
    "    {'account' : 200, 'Name' : 'Johnson', 'Balance' : 345.67},\n",
    "    {'account' : 300, 'Name' : 'Jones', 'Balance': 0.00}]}"
   ]
  },
  {
   "cell_type": "code",
   "execution_count": 40,
   "metadata": {},
   "outputs": [
    {
     "data": {
      "text/plain": [
       "list"
      ]
     },
     "execution_count": 40,
     "metadata": {},
     "output_type": "execute_result"
    }
   ],
   "source": [
    "type(accounts['accounts'])"
   ]
  },
  {
   "cell_type": "code",
   "execution_count": 11,
   "metadata": {},
   "outputs": [],
   "source": [
    "with open('accounts.json', 'w') as writer:\n",
    "    json.dump(accounts,writer)\n",
    "writer.close()    "
   ]
  },
  {
   "cell_type": "code",
   "execution_count": 20,
   "metadata": {},
   "outputs": [],
   "source": [
    "with open('accounts.json', 'r') as reader:\n",
    "    get_data = reader.read()\n",
    "accounts = json.loads(get_data)\n",
    "accounts\n",
    "reader.close()"
   ]
  },
  {
   "cell_type": "code",
   "execution_count": 21,
   "metadata": {},
   "outputs": [
    {
     "data": {
      "text/plain": [
       "dict"
      ]
     },
     "execution_count": 21,
     "metadata": {},
     "output_type": "execute_result"
    }
   ],
   "source": [
    "type(accounts)"
   ]
  },
  {
   "cell_type": "code",
   "execution_count": 22,
   "metadata": {},
   "outputs": [],
   "source": [
    "with open('accounts.json', 'r') as reader:\n",
    "    accounts = json.load(reader)"
   ]
  },
  {
   "cell_type": "code",
   "execution_count": 23,
   "metadata": {},
   "outputs": [
    {
     "data": {
      "text/plain": [
       "{'accounts': [{'account': 100, 'Name': 'Smith', 'Balance': 24.98},\n",
       "  {'account': 200, 'Name': 'Johnson', 'Balance': 345.67},\n",
       "  {'account': 300, 'Name': 'Jones', 'Balance': 0.0}]}"
      ]
     },
     "execution_count": 23,
     "metadata": {},
     "output_type": "execute_result"
    }
   ],
   "source": [
    "accounts"
   ]
  },
  {
   "cell_type": "code",
   "execution_count": 28,
   "metadata": {},
   "outputs": [
    {
     "name": "stdout",
     "output_type": "stream",
     "text": [
      "{\n",
      " \"accounts\": [\n",
      "  {\n",
      "   \"account\": 100,\n",
      "   \"Name\": \"Smith\",\n",
      "   \"Balance\": 24.98\n",
      "  },\n",
      "  {\n",
      "   \"account\": 200,\n",
      "   \"Name\": \"Johnson\",\n",
      "   \"Balance\": 345.67\n",
      "  },\n",
      "  {\n",
      "   \"account\": 300,\n",
      "   \"Name\": \"Jones\",\n",
      "   \"Balance\": 0.0\n",
      "  }\n",
      " ]\n",
      "}\n"
     ]
    }
   ],
   "source": [
    "print(json.dumps(accounts, indent = 1))"
   ]
  },
  {
   "cell_type": "code",
   "execution_count": null,
   "metadata": {},
   "outputs": [],
   "source": []
  },
  {
   "cell_type": "code",
   "execution_count": null,
   "metadata": {},
   "outputs": [],
   "source": []
  },
  {
   "cell_type": "code",
   "execution_count": null,
   "metadata": {},
   "outputs": [],
   "source": []
  },
  {
   "cell_type": "code",
   "execution_count": 1,
   "metadata": {},
   "outputs": [],
   "source": [
    "# dumps --> dump string of JSON object\n"
   ]
  },
  {
   "cell_type": "markdown",
   "metadata": {},
   "source": [
    "# csv module\n",
    "* Used for reading and writing to from csv files\n",
    "* Works equally well for any file extension\n",
    "* Works with the open function\n",
    "* Unlike the open function you can write numerical data\n",
    "* You have to be careful of poorly written csv, i.e. extra/missing commas\n",
    "* Reserved word next reads first line for use with headers"
   ]
  },
  {
   "cell_type": "code",
   "execution_count": 30,
   "metadata": {},
   "outputs": [],
   "source": [
    "import csv"
   ]
  },
  {
   "cell_type": "code",
   "execution_count": 44,
   "metadata": {},
   "outputs": [],
   "source": [
    "# specify newline so you don't get extra linebreaks\n",
    "with open('accounts.csv', mode='w', newline='') as file:\n",
    "    writer = csv.writer(file)\n",
    "    writer.writerow(accounts['accounts'][0].keys())\n",
    "    for account in accounts['accounts']:\n",
    "        values = list(account.values())\n",
    "        writer.writerow(values)\n",
    "file.close()        "
   ]
  },
  {
   "cell_type": "code",
   "execution_count": null,
   "metadata": {},
   "outputs": [],
   "source": []
  },
  {
   "cell_type": "code",
   "execution_count": 47,
   "metadata": {},
   "outputs": [
    {
     "name": "stdout",
     "output_type": "stream",
     "text": [
      "[['100', 'Smith', '24.98'], ['200', 'Johnson', '345.67'], ['300', 'Jones', '0.0']]\n",
      "['account', 'Name', 'Balance']\n"
     ]
    }
   ],
   "source": [
    "# open still brings data in as strings\n",
    "with open('accounts.csv', 'r') as file:\n",
    "    reader = csv.reader(file)\n",
    "    header = next(reader)\n",
    "    list_of_accounts = [row for row in reader]\n",
    "file.close()    \n",
    "print(list_of_accounts)\n",
    "print(header)"
   ]
  },
  {
   "cell_type": "code",
   "execution_count": 4,
   "metadata": {},
   "outputs": [],
   "source": [
    "list_of_accounts = []\n"
   ]
  },
  {
   "cell_type": "code",
   "execution_count": null,
   "metadata": {},
   "outputs": [],
   "source": []
  },
  {
   "cell_type": "code",
   "execution_count": null,
   "metadata": {},
   "outputs": [],
   "source": []
  },
  {
   "cell_type": "code",
   "execution_count": 5,
   "metadata": {},
   "outputs": [],
   "source": [
    "# is numeric checks if entire string is comprised of numbers\n",
    "#print(list_accounts[0][2].isnumeric())\n",
    "#print(list_accounts[0][2][0].isdigit())"
   ]
  },
  {
   "cell_type": "code",
   "execution_count": null,
   "metadata": {},
   "outputs": [],
   "source": [
    "        "
   ]
  },
  {
   "cell_type": "code",
   "execution_count": null,
   "metadata": {},
   "outputs": [],
   "source": []
  },
  {
   "cell_type": "code",
   "execution_count": null,
   "metadata": {},
   "outputs": [],
   "source": []
  },
  {
   "cell_type": "code",
   "execution_count": null,
   "metadata": {},
   "outputs": [],
   "source": []
  },
  {
   "cell_type": "code",
   "execution_count": null,
   "metadata": {},
   "outputs": [],
   "source": []
  },
  {
   "cell_type": "code",
   "execution_count": null,
   "metadata": {},
   "outputs": [],
   "source": []
  },
  {
   "cell_type": "code",
   "execution_count": null,
   "metadata": {},
   "outputs": [],
   "source": []
  },
  {
   "cell_type": "code",
   "execution_count": null,
   "metadata": {},
   "outputs": [],
   "source": []
  }
 ],
 "metadata": {
  "kernelspec": {
   "display_name": "Python 3 (ipykernel)",
   "language": "python",
   "name": "python3"
  },
  "language_info": {
   "codemirror_mode": {
    "name": "ipython",
    "version": 3
   },
   "file_extension": ".py",
   "mimetype": "text/x-python",
   "name": "python",
   "nbconvert_exporter": "python",
   "pygments_lexer": "ipython3",
   "version": "3.9.7"
  }
 },
 "nbformat": 4,
 "nbformat_minor": 4
}
