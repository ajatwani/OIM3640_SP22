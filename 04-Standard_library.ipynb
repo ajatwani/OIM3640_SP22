{
 "cells": [
  {
   "cell_type": "markdown",
   "id": "3e3d3221",
   "metadata": {},
   "source": [
    "# Selected Modules from Standard Library"
   ]
  },
  {
   "cell_type": "markdown",
   "id": "8cf109a7",
   "metadata": {},
   "source": [
    "### [The Standard Library](https://docs.python.org/3/library/)\n",
    "* Python is large and we don't use all of it \n",
    "* Instead of making *all* capabilities available a minimum is loaded \n",
    "* We can extend the capabilities as needed by \"importing\" extensions\n",
    "* Be careful not to name your .py files after a module, i.e. numbers\n",
    "* math, random, time, datetime"
   ]
  },
  {
   "cell_type": "markdown",
   "id": "0b570d19",
   "metadata": {},
   "source": [
    "### time"
   ]
  },
  {
   "cell_type": "code",
   "execution_count": 2,
   "id": "3ca38897",
   "metadata": {},
   "outputs": [],
   "source": [
    "import time"
   ]
  },
  {
   "cell_type": "code",
   "execution_count": 3,
   "id": "3d4005eb",
   "metadata": {},
   "outputs": [
    {
     "data": {
      "text/plain": [
       "['_STRUCT_TM_ITEMS',\n",
       " '__doc__',\n",
       " '__loader__',\n",
       " '__name__',\n",
       " '__package__',\n",
       " '__spec__',\n",
       " 'altzone',\n",
       " 'asctime',\n",
       " 'ctime',\n",
       " 'daylight',\n",
       " 'get_clock_info',\n",
       " 'gmtime',\n",
       " 'localtime',\n",
       " 'mktime',\n",
       " 'monotonic',\n",
       " 'monotonic_ns',\n",
       " 'perf_counter',\n",
       " 'perf_counter_ns',\n",
       " 'process_time',\n",
       " 'process_time_ns',\n",
       " 'sleep',\n",
       " 'strftime',\n",
       " 'strptime',\n",
       " 'struct_time',\n",
       " 'thread_time',\n",
       " 'thread_time_ns',\n",
       " 'time',\n",
       " 'time_ns',\n",
       " 'timezone',\n",
       " 'tzname']"
      ]
     },
     "execution_count": 3,
     "metadata": {},
     "output_type": "execute_result"
    }
   ],
   "source": [
    "dir(time)"
   ]
  },
  {
   "cell_type": "code",
   "execution_count": 10,
   "id": "bd48fd5f",
   "metadata": {},
   "outputs": [],
   "source": [
    "start = time.time()"
   ]
  },
  {
   "cell_type": "code",
   "execution_count": 11,
   "id": "b88a68f0",
   "metadata": {},
   "outputs": [
    {
     "data": {
      "text/plain": [
       "23.464062213897705"
      ]
     },
     "execution_count": 11,
     "metadata": {},
     "output_type": "execute_result"
    }
   ],
   "source": [
    "time.time() - start"
   ]
  },
  {
   "cell_type": "code",
   "execution_count": 14,
   "id": "9ee80704",
   "metadata": {},
   "outputs": [],
   "source": [
    "from time import sleep, time"
   ]
  },
  {
   "cell_type": "code",
   "execution_count": 19,
   "id": "491bb681",
   "metadata": {},
   "outputs": [
    {
     "name": "stdout",
     "output_type": "stream",
     "text": [
      "Hello, there's 2.0013134479522705 seconds I can't get back\n"
     ]
    }
   ],
   "source": [
    "start = time()\n",
    "sleep(2)\n",
    "print(f\"Hello, there's {time() - start} seconds I can't get back\")"
   ]
  },
  {
   "cell_type": "markdown",
   "id": "1a85d608",
   "metadata": {},
   "source": [
    "### random"
   ]
  },
  {
   "cell_type": "code",
   "execution_count": 20,
   "id": "8c91cfda",
   "metadata": {},
   "outputs": [],
   "source": [
    "# don't do this:\n",
    "#from random import *"
   ]
  },
  {
   "cell_type": "code",
   "execution_count": 22,
   "id": "9633e208",
   "metadata": {},
   "outputs": [],
   "source": [
    "import random"
   ]
  },
  {
   "cell_type": "code",
   "execution_count": 28,
   "id": "d8e1495e",
   "metadata": {},
   "outputs": [],
   "source": [
    "# help(random.gauss)"
   ]
  },
  {
   "cell_type": "code",
   "execution_count": 29,
   "id": "3844362a",
   "metadata": {},
   "outputs": [
    {
     "name": "stdout",
     "output_type": "stream",
     "text": [
      "680 ns ± 41.7 ns per loop (mean ± std. dev. of 7 runs, 1000000 loops each)\n"
     ]
    }
   ],
   "source": [
    "%%timeit\n",
    "random.gauss(0,1)"
   ]
  },
  {
   "cell_type": "code",
   "execution_count": 30,
   "id": "cc52939b",
   "metadata": {},
   "outputs": [
    {
     "name": "stdout",
     "output_type": "stream",
     "text": [
      "844 ns ± 102 ns per loop (mean ± std. dev. of 7 runs, 1000000 loops each)\n"
     ]
    }
   ],
   "source": [
    "%%timeit\n",
    "random.normalvariate(0,1)"
   ]
  },
  {
   "cell_type": "code",
   "execution_count": 40,
   "id": "9222e983",
   "metadata": {},
   "outputs": [
    {
     "data": {
      "text/plain": [
       "0.376962302390386"
      ]
     },
     "execution_count": 40,
     "metadata": {},
     "output_type": "execute_result"
    }
   ],
   "source": [
    "random.seed(25)\n",
    "random.random()"
   ]
  },
  {
   "cell_type": "code",
   "execution_count": 43,
   "id": "52fb6aa8",
   "metadata": {},
   "outputs": [
    {
     "data": {
      "text/plain": [
       "9"
      ]
     },
     "execution_count": 43,
     "metadata": {},
     "output_type": "execute_result"
    }
   ],
   "source": [
    "random.randint(1,6) + random.randint(1,6)"
   ]
  },
  {
   "cell_type": "code",
   "execution_count": 49,
   "id": "174bb810",
   "metadata": {},
   "outputs": [],
   "source": [
    "choices = ['rock', 'paper', 'scissors']"
   ]
  },
  {
   "cell_type": "code",
   "execution_count": 51,
   "id": "f698dc70",
   "metadata": {},
   "outputs": [
    {
     "data": {
      "text/plain": [
       "'scissors'"
      ]
     },
     "execution_count": 51,
     "metadata": {},
     "output_type": "execute_result"
    }
   ],
   "source": [
    "random.choice(choices)"
   ]
  },
  {
   "cell_type": "code",
   "execution_count": 54,
   "id": "3856be32",
   "metadata": {},
   "outputs": [
    {
     "data": {
      "text/plain": [
       "18"
      ]
     },
     "execution_count": 54,
     "metadata": {},
     "output_type": "execute_result"
    }
   ],
   "source": [
    "random.choice(range(20))"
   ]
  },
  {
   "cell_type": "code",
   "execution_count": 59,
   "id": "af8dc57e",
   "metadata": {},
   "outputs": [
    {
     "data": {
      "text/plain": [
       "[44, 7, 39, 38, 23]"
      ]
     },
     "execution_count": 59,
     "metadata": {},
     "output_type": "execute_result"
    }
   ],
   "source": [
    "random.sample(range(1,53), 5)"
   ]
  },
  {
   "cell_type": "code",
   "execution_count": null,
   "id": "7d494810",
   "metadata": {},
   "outputs": [],
   "source": []
  },
  {
   "cell_type": "code",
   "execution_count": null,
   "id": "3e0b3088",
   "metadata": {},
   "outputs": [],
   "source": []
  },
  {
   "cell_type": "markdown",
   "id": "ec7843f8",
   "metadata": {},
   "source": [
    "### math\n",
    "* lots of esoteric mathy \"stuff\"\n",
    "* commonly used:\n",
    "    * ceil, e, exp, floor, log, log2, log10, sqrt, pi, tau!?"
   ]
  },
  {
   "cell_type": "code",
   "execution_count": 71,
   "id": "36c78cee",
   "metadata": {},
   "outputs": [],
   "source": [
    "import math\n"
   ]
  },
  {
   "cell_type": "code",
   "execution_count": 70,
   "id": "46b86e86",
   "metadata": {},
   "outputs": [
    {
     "data": {
      "text/plain": [
       "16.0"
      ]
     },
     "execution_count": 70,
     "metadata": {},
     "output_type": "execute_result"
    }
   ],
   "source": [
    "math.log2(65536)"
   ]
  },
  {
   "cell_type": "code",
   "execution_count": 62,
   "id": "40fcf976",
   "metadata": {},
   "outputs": [
    {
     "data": {
      "text/plain": [
       "2"
      ]
     },
     "execution_count": 62,
     "metadata": {},
     "output_type": "execute_result"
    }
   ],
   "source": [
    "math.ceil(5/4)"
   ]
  },
  {
   "cell_type": "code",
   "execution_count": 63,
   "id": "c2ccf3b7",
   "metadata": {},
   "outputs": [
    {
     "data": {
      "text/plain": [
       "1"
      ]
     },
     "execution_count": 63,
     "metadata": {},
     "output_type": "execute_result"
    }
   ],
   "source": [
    "# 5 // 4\n",
    "math.floor(5/4)"
   ]
  },
  {
   "cell_type": "code",
   "execution_count": 72,
   "id": "5152ea5b",
   "metadata": {},
   "outputs": [
    {
     "data": {
      "text/plain": [
       "6.283185307179586"
      ]
     },
     "execution_count": 72,
     "metadata": {},
     "output_type": "execute_result"
    }
   ],
   "source": [
    "math.tau"
   ]
  },
  {
   "cell_type": "code",
   "execution_count": 87,
   "id": "bd7bb1aa",
   "metadata": {},
   "outputs": [],
   "source": [
    "r = .00125\n",
    "sigma = .30\n",
    "T = 21/252\n",
    "aapl = 173"
   ]
  },
  {
   "cell_type": "code",
   "execution_count": 76,
   "id": "8a4b3dbe",
   "metadata": {},
   "outputs": [],
   "source": [
    "from math import exp, sqrt\n",
    "from random import gauss as normal"
   ]
  },
  {
   "cell_type": "code",
   "execution_count": 92,
   "id": "e5d381b0",
   "metadata": {},
   "outputs": [
    {
     "data": {
      "text/plain": [
       "188.5035206158616"
      ]
     },
     "execution_count": 92,
     "metadata": {},
     "output_type": "execute_result"
    }
   ],
   "source": [
    "price = aapl * exp((r - .5 * sigma ** 2)*T + sigma * sqrt(T) * normal(0,1))\n",
    "price"
   ]
  },
  {
   "cell_type": "code",
   "execution_count": 97,
   "id": "22e38136",
   "metadata": {},
   "outputs": [],
   "source": [
    "price = []\n",
    "for iteration in range(1000000):\n",
    "    price.append(aapl * exp((r - .5 * sigma ** 2)* T + sigma * sqrt(T) * normal(0,1)))\n"
   ]
  },
  {
   "cell_type": "code",
   "execution_count": 98,
   "id": "f0257efc",
   "metadata": {},
   "outputs": [
    {
     "data": {
      "text/plain": [
       "1000000"
      ]
     },
     "execution_count": 98,
     "metadata": {},
     "output_type": "execute_result"
    }
   ],
   "source": [
    "len(price)"
   ]
  },
  {
   "cell_type": "code",
   "execution_count": 99,
   "id": "34fe37d9",
   "metadata": {},
   "outputs": [
    {
     "data": {
      "text/plain": [
       "257.056878922894"
      ]
     },
     "execution_count": 99,
     "metadata": {},
     "output_type": "execute_result"
    }
   ],
   "source": [
    "max(price)"
   ]
  },
  {
   "cell_type": "code",
   "execution_count": 100,
   "id": "d829d998",
   "metadata": {},
   "outputs": [
    {
     "data": {
      "text/plain": [
       "113.55233421862985"
      ]
     },
     "execution_count": 100,
     "metadata": {},
     "output_type": "execute_result"
    }
   ],
   "source": [
    "min(price)"
   ]
  },
  {
   "cell_type": "code",
   "execution_count": 102,
   "id": "d716cacc",
   "metadata": {},
   "outputs": [
    {
     "data": {
      "text/plain": [
       "173.0255309367939"
      ]
     },
     "execution_count": 102,
     "metadata": {},
     "output_type": "execute_result"
    }
   ],
   "source": [
    "sum(price) / len(price)"
   ]
  },
  {
   "cell_type": "code",
   "execution_count": 103,
   "id": "2377be75",
   "metadata": {},
   "outputs": [],
   "source": [
    "price = sorted(price)"
   ]
  },
  {
   "cell_type": "code",
   "execution_count": 105,
   "id": "c42f0d90",
   "metadata": {},
   "outputs": [
    {
     "data": {
      "text/plain": [
       "257.056878922894"
      ]
     },
     "execution_count": 105,
     "metadata": {},
     "output_type": "execute_result"
    }
   ],
   "source": [
    "price[-1]"
   ]
  },
  {
   "cell_type": "code",
   "execution_count": null,
   "id": "b5ff6cc0",
   "metadata": {},
   "outputs": [],
   "source": []
  },
  {
   "cell_type": "code",
   "execution_count": null,
   "id": "7be45885",
   "metadata": {},
   "outputs": [],
   "source": []
  },
  {
   "cell_type": "markdown",
   "id": "4adb214f",
   "metadata": {},
   "source": [
    "### [datetime](https://www.w3schools.com/python/python_datetime.asp)"
   ]
  },
  {
   "cell_type": "code",
   "execution_count": null,
   "id": "642eff55",
   "metadata": {},
   "outputs": [],
   "source": []
  },
  {
   "cell_type": "code",
   "execution_count": null,
   "id": "ca59e77b",
   "metadata": {},
   "outputs": [],
   "source": []
  },
  {
   "cell_type": "code",
   "execution_count": null,
   "id": "66b112bf",
   "metadata": {},
   "outputs": [],
   "source": []
  },
  {
   "cell_type": "code",
   "execution_count": null,
   "id": "870026a6",
   "metadata": {},
   "outputs": [],
   "source": []
  },
  {
   "cell_type": "code",
   "execution_count": null,
   "id": "2a6f19ca",
   "metadata": {},
   "outputs": [],
   "source": []
  },
  {
   "cell_type": "code",
   "execution_count": null,
   "id": "bf9fffe6",
   "metadata": {},
   "outputs": [],
   "source": []
  },
  {
   "cell_type": "code",
   "execution_count": null,
   "id": "8cc92436",
   "metadata": {},
   "outputs": [],
   "source": []
  },
  {
   "cell_type": "code",
   "execution_count": null,
   "id": "5a1f6dfc",
   "metadata": {},
   "outputs": [],
   "source": []
  },
  {
   "cell_type": "code",
   "execution_count": null,
   "id": "0aa88677",
   "metadata": {},
   "outputs": [],
   "source": []
  },
  {
   "cell_type": "code",
   "execution_count": null,
   "id": "50661d9f",
   "metadata": {},
   "outputs": [],
   "source": []
  },
  {
   "cell_type": "code",
   "execution_count": null,
   "id": "3e8ca6ac",
   "metadata": {},
   "outputs": [],
   "source": []
  },
  {
   "cell_type": "code",
   "execution_count": null,
   "id": "4b0b9e26",
   "metadata": {},
   "outputs": [],
   "source": []
  },
  {
   "cell_type": "code",
   "execution_count": null,
   "id": "12755e80",
   "metadata": {},
   "outputs": [],
   "source": []
  },
  {
   "cell_type": "code",
   "execution_count": null,
   "id": "760a2260",
   "metadata": {},
   "outputs": [],
   "source": []
  }
 ],
 "metadata": {
  "kernelspec": {
   "display_name": "Python 3 (ipykernel)",
   "language": "python",
   "name": "python3"
  },
  "language_info": {
   "codemirror_mode": {
    "name": "ipython",
    "version": 3
   },
   "file_extension": ".py",
   "mimetype": "text/x-python",
   "name": "python",
   "nbconvert_exporter": "python",
   "pygments_lexer": "ipython3",
   "version": "3.9.7"
  }
 },
 "nbformat": 4,
 "nbformat_minor": 5
}
