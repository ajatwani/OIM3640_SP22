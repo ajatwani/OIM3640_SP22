{
 "cells": [
  {
   "cell_type": "markdown",
   "id": "3e3d3221",
   "metadata": {},
   "source": [
    "# Selected Modules from Standard Library"
   ]
  },
  {
   "cell_type": "markdown",
   "id": "8cf109a7",
   "metadata": {},
   "source": [
    "### [The Standard Library](https://docs.python.org/3/library/)\n",
    "* Python is large and we don't use all of it \n",
    "* Instead of making *all* capabilities available a minimum is loaded \n",
    "* We can extend the capabilities as needed by \"importing\" extensions\n",
    "* Be careful not to name your .py files after a module, i.e. numbers\n",
    "* math, random, time, datetime"
   ]
  },
  {
   "cell_type": "markdown",
   "id": "0b570d19",
   "metadata": {},
   "source": [
    "### time"
   ]
  },
  {
   "cell_type": "code",
   "execution_count": 1,
   "id": "3ca38897",
   "metadata": {},
   "outputs": [],
   "source": [
    "import time"
   ]
  },
  {
   "cell_type": "code",
   "execution_count": 2,
   "id": "3d4005eb",
   "metadata": {},
   "outputs": [
    {
     "data": {
      "text/plain": [
       "['_STRUCT_TM_ITEMS',\n",
       " '__doc__',\n",
       " '__loader__',\n",
       " '__name__',\n",
       " '__package__',\n",
       " '__spec__',\n",
       " 'altzone',\n",
       " 'asctime',\n",
       " 'ctime',\n",
       " 'daylight',\n",
       " 'get_clock_info',\n",
       " 'gmtime',\n",
       " 'localtime',\n",
       " 'mktime',\n",
       " 'monotonic',\n",
       " 'monotonic_ns',\n",
       " 'perf_counter',\n",
       " 'perf_counter_ns',\n",
       " 'process_time',\n",
       " 'process_time_ns',\n",
       " 'sleep',\n",
       " 'strftime',\n",
       " 'strptime',\n",
       " 'struct_time',\n",
       " 'thread_time',\n",
       " 'thread_time_ns',\n",
       " 'time',\n",
       " 'time_ns',\n",
       " 'timezone',\n",
       " 'tzname']"
      ]
     },
     "execution_count": 2,
     "metadata": {},
     "output_type": "execute_result"
    }
   ],
   "source": [
    "dir(time)"
   ]
  },
  {
   "cell_type": "code",
   "execution_count": 3,
   "id": "bd48fd5f",
   "metadata": {},
   "outputs": [],
   "source": [
    "start = time.time()"
   ]
  },
  {
   "cell_type": "code",
   "execution_count": 4,
   "id": "b88a68f0",
   "metadata": {},
   "outputs": [
    {
     "data": {
      "text/plain": [
       "0.11933016777038574"
      ]
     },
     "execution_count": 4,
     "metadata": {},
     "output_type": "execute_result"
    }
   ],
   "source": [
    "time.time() - start"
   ]
  },
  {
   "cell_type": "code",
   "execution_count": 5,
   "id": "24aac389",
   "metadata": {},
   "outputs": [],
   "source": [
    "from time import sleep, time"
   ]
  },
  {
   "cell_type": "code",
   "execution_count": 6,
   "id": "491bb681",
   "metadata": {},
   "outputs": [
    {
     "name": "stdout",
     "output_type": "stream",
     "text": [
      "Hello, there's 2.007493257522583 seconds I can't get back\n"
     ]
    }
   ],
   "source": [
    "start = time()\n",
    "sleep(2)\n",
    "print(f\"Hello, there's {time() - start} seconds I can't get back\")"
   ]
  },
  {
   "cell_type": "markdown",
   "id": "1a85d608",
   "metadata": {},
   "source": [
    "### random"
   ]
  },
  {
   "cell_type": "code",
   "execution_count": 7,
   "id": "8c91cfda",
   "metadata": {},
   "outputs": [],
   "source": [
    "# don't do this:\n",
    "#from random import *"
   ]
  },
  {
   "cell_type": "code",
   "execution_count": 8,
   "id": "9633e208",
   "metadata": {},
   "outputs": [],
   "source": [
    "import random"
   ]
  },
  {
   "cell_type": "code",
   "execution_count": 9,
   "id": "d8e1495e",
   "metadata": {},
   "outputs": [],
   "source": [
    "# help(random.gauss)"
   ]
  },
  {
   "cell_type": "code",
   "execution_count": 10,
   "id": "6a709ca8",
   "metadata": {},
   "outputs": [
    {
     "name": "stdout",
     "output_type": "stream",
     "text": [
      "1.72 µs ± 18.1 ns per loop (mean ± std. dev. of 7 runs, 1000000 loops each)\n"
     ]
    }
   ],
   "source": [
    "%%timeit\n",
    "random.gauss(0,1)"
   ]
  },
  {
   "cell_type": "code",
   "execution_count": 11,
   "id": "cc52939b",
   "metadata": {},
   "outputs": [
    {
     "name": "stdout",
     "output_type": "stream",
     "text": [
      "2.02 µs ± 157 ns per loop (mean ± std. dev. of 7 runs, 100000 loops each)\n"
     ]
    }
   ],
   "source": [
    "%%timeit\n",
    "random.normalvariate(0,1)"
   ]
  },
  {
   "cell_type": "code",
   "execution_count": 12,
   "id": "9222e983",
   "metadata": {},
   "outputs": [
    {
     "data": {
      "text/plain": [
       "0.376962302390386"
      ]
     },
     "execution_count": 12,
     "metadata": {},
     "output_type": "execute_result"
    }
   ],
   "source": [
    "random.seed(25)\n",
    "random.random()"
   ]
  },
  {
   "cell_type": "code",
   "execution_count": 13,
   "id": "52fb6aa8",
   "metadata": {},
   "outputs": [
    {
     "data": {
      "text/plain": [
       "3"
      ]
     },
     "execution_count": 13,
     "metadata": {},
     "output_type": "execute_result"
    }
   ],
   "source": [
    "random.randint(1,6) + random.randint(1,6)"
   ]
  },
  {
   "cell_type": "code",
   "execution_count": 14,
   "id": "174bb810",
   "metadata": {},
   "outputs": [],
   "source": [
    "choices = ['rock', 'paper', 'scissors']"
   ]
  },
  {
   "cell_type": "code",
   "execution_count": 15,
   "id": "f698dc70",
   "metadata": {},
   "outputs": [
    {
     "data": {
      "text/plain": [
       "'paper'"
      ]
     },
     "execution_count": 15,
     "metadata": {},
     "output_type": "execute_result"
    }
   ],
   "source": [
    "random.choice(choices)"
   ]
  },
  {
   "cell_type": "code",
   "execution_count": 16,
   "id": "22c3522e",
   "metadata": {},
   "outputs": [
    {
     "data": {
      "text/plain": [
       "15"
      ]
     },
     "execution_count": 16,
     "metadata": {},
     "output_type": "execute_result"
    }
   ],
   "source": [
    "random.choice(range(20))"
   ]
  },
  {
   "cell_type": "code",
   "execution_count": 17,
   "id": "1a19974d",
   "metadata": {},
   "outputs": [
    {
     "data": {
      "text/plain": [
       "[3, 49, 17, 20, 37]"
      ]
     },
     "execution_count": 17,
     "metadata": {},
     "output_type": "execute_result"
    }
   ],
   "source": [
    "random.sample(range(1,53), 5)"
   ]
  },
  {
   "cell_type": "code",
   "execution_count": null,
   "id": "43658aca",
   "metadata": {},
   "outputs": [],
   "source": []
  },
  {
   "cell_type": "code",
   "execution_count": null,
   "id": "c2827611",
   "metadata": {},
   "outputs": [],
   "source": []
  },
  {
   "cell_type": "markdown",
   "id": "ec7843f8",
   "metadata": {},
   "source": [
    "### math\n",
    "* lots of esoteric mathy \"stuff\"\n",
    "* commonly used:\n",
    "    * ceil, e, exp, floor, log, log2, log10, sqrt, pi, tau!?"
   ]
  },
  {
   "cell_type": "code",
   "execution_count": 36,
   "id": "36c78cee",
   "metadata": {},
   "outputs": [],
   "source": [
    "import math\n"
   ]
  },
  {
   "cell_type": "code",
   "execution_count": 37,
   "id": "46b86e86",
   "metadata": {},
   "outputs": [
    {
     "data": {
      "text/plain": [
       "16.0"
      ]
     },
     "execution_count": 37,
     "metadata": {},
     "output_type": "execute_result"
    }
   ],
   "source": [
    "math.log2(65536)"
   ]
  },
  {
   "cell_type": "code",
   "execution_count": 38,
   "id": "40fcf976",
   "metadata": {},
   "outputs": [
    {
     "data": {
      "text/plain": [
       "2"
      ]
     },
     "execution_count": 38,
     "metadata": {},
     "output_type": "execute_result"
    }
   ],
   "source": [
    "math.ceil(5/4)"
   ]
  },
  {
   "cell_type": "code",
   "execution_count": 39,
   "id": "c2ccf3b7",
   "metadata": {},
   "outputs": [
    {
     "data": {
      "text/plain": [
       "1"
      ]
     },
     "execution_count": 39,
     "metadata": {},
     "output_type": "execute_result"
    }
   ],
   "source": [
    "# 5 // 4\n",
    "math.floor(5/4)"
   ]
  },
  {
   "cell_type": "code",
   "execution_count": 40,
   "id": "5152ea5b",
   "metadata": {},
   "outputs": [
    {
     "data": {
      "text/plain": [
       "6.283185307179586"
      ]
     },
     "execution_count": 40,
     "metadata": {},
     "output_type": "execute_result"
    }
   ],
   "source": [
    "math.tau"
   ]
  },
  {
   "cell_type": "code",
   "execution_count": 41,
   "id": "bd7bb1aa",
   "metadata": {},
   "outputs": [],
   "source": [
    "r = .00125\n",
    "sigma = .30\n",
    "T = 21/252\n",
    "aapl = 173"
   ]
  },
  {
   "cell_type": "code",
   "execution_count": 42,
   "id": "8a4b3dbe",
   "metadata": {},
   "outputs": [],
   "source": [
    "from math import exp, sqrt\n",
    "from random import gauss as normal"
   ]
  },
  {
   "cell_type": "code",
   "execution_count": 43,
   "id": "e5d381b0",
   "metadata": {},
   "outputs": [
    {
     "data": {
      "text/plain": [
       "157.72468012289787"
      ]
     },
     "execution_count": 43,
     "metadata": {},
     "output_type": "execute_result"
    }
   ],
   "source": [
    "price = aapl * exp((r - .5 * sigma ** 2)*T + sigma * sqrt(T) * normal(0,1))\n",
    "price"
   ]
  },
  {
   "cell_type": "code",
   "execution_count": 65,
   "id": "22e38136",
   "metadata": {},
   "outputs": [],
   "source": [
    "price = []\n",
    "for iteration in range(9999):\n",
    "    price.append(aapl * exp((r - .5 * sigma ** 2)* T + sigma * sqrt(T) * normal(0,1)))\n"
   ]
  },
  {
   "cell_type": "code",
   "execution_count": 66,
   "id": "f0257efc",
   "metadata": {},
   "outputs": [
    {
     "data": {
      "text/plain": [
       "9999"
      ]
     },
     "execution_count": 66,
     "metadata": {},
     "output_type": "execute_result"
    }
   ],
   "source": [
    "len(price)"
   ]
  },
  {
   "cell_type": "code",
   "execution_count": 67,
   "id": "34fe37d9",
   "metadata": {},
   "outputs": [
    {
     "data": {
      "text/plain": [
       "244.64200342663446"
      ]
     },
     "execution_count": 67,
     "metadata": {},
     "output_type": "execute_result"
    }
   ],
   "source": [
    "max(price)"
   ]
  },
  {
   "cell_type": "code",
   "execution_count": 68,
   "id": "d829d998",
   "metadata": {},
   "outputs": [
    {
     "data": {
      "text/plain": [
       "122.35577968371656"
      ]
     },
     "execution_count": 68,
     "metadata": {},
     "output_type": "execute_result"
    }
   ],
   "source": [
    "min(price)"
   ]
  },
  {
   "cell_type": "code",
   "execution_count": 69,
   "id": "d716cacc",
   "metadata": {},
   "outputs": [
    {
     "data": {
      "text/plain": [
       "173.19944987830587"
      ]
     },
     "execution_count": 69,
     "metadata": {},
     "output_type": "execute_result"
    }
   ],
   "source": [
    "sum(price) / len(price)"
   ]
  },
  {
   "cell_type": "code",
   "execution_count": 70,
   "id": "2377be75",
   "metadata": {},
   "outputs": [],
   "source": [
    "price = sorted(price)"
   ]
  },
  {
   "cell_type": "code",
   "execution_count": 71,
   "id": "1890bf29",
   "metadata": {},
   "outputs": [
    {
     "data": {
      "text/plain": [
       "244.64200342663446"
      ]
     },
     "execution_count": 71,
     "metadata": {},
     "output_type": "execute_result"
    }
   ],
   "source": [
    "# last value in list\n",
    "price[-1]"
   ]
  },
  {
   "cell_type": "code",
   "execution_count": 33,
   "id": "a2050765",
   "metadata": {},
   "outputs": [
    {
     "data": {
      "text/plain": [
       "114.31447182499001"
      ]
     },
     "execution_count": 33,
     "metadata": {},
     "output_type": "execute_result"
    }
   ],
   "source": [
    "# first value in list\n",
    "price[0]"
   ]
  },
  {
   "cell_type": "code",
   "execution_count": 78,
   "id": "119e83a1",
   "metadata": {},
   "outputs": [
    {
     "data": {
      "text/plain": [
       "150.02"
      ]
     },
     "execution_count": 78,
     "metadata": {},
     "output_type": "execute_result"
    }
   ],
   "source": [
    "round(price[math.floor(.05 * len(price))],2)"
   ]
  },
  {
   "cell_type": "code",
   "execution_count": 77,
   "id": "d3264117",
   "metadata": {},
   "outputs": [
    {
     "data": {
      "text/plain": [
       "499.95000000000005"
      ]
     },
     "execution_count": 77,
     "metadata": {},
     "output_type": "execute_result"
    }
   ],
   "source": [
    "len(price) * .05"
   ]
  },
  {
   "cell_type": "code",
   "execution_count": 64,
   "id": "74d81906",
   "metadata": {},
   "outputs": [
    {
     "data": {
      "text/plain": [
       "'0b1111010'"
      ]
     },
     "execution_count": 64,
     "metadata": {},
     "output_type": "execute_result"
    }
   ],
   "source": [
    "l = ['Z', 'a']\n",
    "max(l)\n",
    "ord('Z')\n",
    "chr(90)\n",
    "bin(ord('z'))"
   ]
  },
  {
   "cell_type": "markdown",
   "id": "4adb214f",
   "metadata": {},
   "source": [
    "### [datetime](https://www.w3schools.com/python/python_datetime.asp)"
   ]
  },
  {
   "cell_type": "code",
   "execution_count": 79,
   "id": "642eff55",
   "metadata": {},
   "outputs": [],
   "source": [
    "import datetime as dt"
   ]
  },
  {
   "cell_type": "code",
   "execution_count": 80,
   "id": "ca59e77b",
   "metadata": {},
   "outputs": [
    {
     "data": {
      "text/plain": [
       "['MAXYEAR',\n",
       " 'MINYEAR',\n",
       " '__all__',\n",
       " '__builtins__',\n",
       " '__cached__',\n",
       " '__doc__',\n",
       " '__file__',\n",
       " '__loader__',\n",
       " '__name__',\n",
       " '__package__',\n",
       " '__spec__',\n",
       " 'date',\n",
       " 'datetime',\n",
       " 'datetime_CAPI',\n",
       " 'sys',\n",
       " 'time',\n",
       " 'timedelta',\n",
       " 'timezone',\n",
       " 'tzinfo']"
      ]
     },
     "execution_count": 80,
     "metadata": {},
     "output_type": "execute_result"
    }
   ],
   "source": [
    "dir(dt)"
   ]
  },
  {
   "cell_type": "code",
   "execution_count": 84,
   "id": "66b112bf",
   "metadata": {},
   "outputs": [],
   "source": [
    "today = dt.date.today()"
   ]
  },
  {
   "cell_type": "code",
   "execution_count": 82,
   "id": "870026a6",
   "metadata": {},
   "outputs": [
    {
     "data": {
      "text/plain": [
       "datetime.date(2022, 2, 2)"
      ]
     },
     "execution_count": 82,
     "metadata": {},
     "output_type": "execute_result"
    }
   ],
   "source": [
    "dt.date(2022,2,2)"
   ]
  },
  {
   "cell_type": "code",
   "execution_count": 83,
   "id": "2a6f19ca",
   "metadata": {},
   "outputs": [
    {
     "name": "stdout",
     "output_type": "stream",
     "text": [
      "2022-02-02\n"
     ]
    }
   ],
   "source": [
    "print(dt.date.today())"
   ]
  },
  {
   "cell_type": "code",
   "execution_count": 85,
   "id": "bf9fffe6",
   "metadata": {},
   "outputs": [],
   "source": [
    "v_day = dt.date(2022,2,14)"
   ]
  },
  {
   "cell_type": "code",
   "execution_count": 86,
   "id": "8cc92436",
   "metadata": {},
   "outputs": [
    {
     "data": {
      "text/plain": [
       "datetime.timedelta(days=12)"
      ]
     },
     "execution_count": 86,
     "metadata": {},
     "output_type": "execute_result"
    }
   ],
   "source": [
    "deadline = v_day - today\n",
    "deadline"
   ]
  },
  {
   "cell_type": "code",
   "execution_count": 87,
   "id": "5a1f6dfc",
   "metadata": {},
   "outputs": [
    {
     "name": "stdout",
     "output_type": "stream",
     "text": [
      "12 days, 0:00:00\n"
     ]
    }
   ],
   "source": [
    "print(deadline)"
   ]
  },
  {
   "cell_type": "code",
   "execution_count": 88,
   "id": "0aa88677",
   "metadata": {},
   "outputs": [
    {
     "name": "stdout",
     "output_type": "stream",
     "text": [
      "Wednesday February 02 2022\n"
     ]
    }
   ],
   "source": [
    "print(today.strftime(\"%A %B %d %Y\"))"
   ]
  },
  {
   "cell_type": "code",
   "execution_count": null,
   "id": "50661d9f",
   "metadata": {},
   "outputs": [],
   "source": []
  },
  {
   "cell_type": "code",
   "execution_count": null,
   "id": "3e8ca6ac",
   "metadata": {},
   "outputs": [],
   "source": []
  },
  {
   "cell_type": "code",
   "execution_count": null,
   "id": "4b0b9e26",
   "metadata": {},
   "outputs": [],
   "source": []
  },
  {
   "cell_type": "code",
   "execution_count": null,
   "id": "12755e80",
   "metadata": {},
   "outputs": [],
   "source": []
  },
  {
   "cell_type": "code",
   "execution_count": null,
   "id": "760a2260",
   "metadata": {},
   "outputs": [],
   "source": []
  }
 ],
 "metadata": {
  "kernelspec": {
   "display_name": "Python 3 (ipykernel)",
   "language": "python",
   "name": "python3"
  },
  "language_info": {
   "codemirror_mode": {
    "name": "ipython",
    "version": 3
   },
   "file_extension": ".py",
   "mimetype": "text/x-python",
   "name": "python",
   "nbconvert_exporter": "python",
   "pygments_lexer": "ipython3",
   "version": "3.9.7"
  }
 },
 "nbformat": 4,
 "nbformat_minor": 5
}
