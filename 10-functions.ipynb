{
 "cells": [
  {
   "cell_type": "markdown",
   "id": "accompanied-wedding",
   "metadata": {},
   "source": [
    "# User Defined Functions\n",
    "* Allow for creation and management of larger programs\n",
    "* Allows for complexity to be separated from program flow\n",
    "* Can minmimize code redundency\n",
    "* Functions can be used to package scripts for use and reuse\n",
    "* Allow us to organize code more effectively\n",
    "* Types:\n",
    "    * no argument, no return value(s) (void)\n",
    "    * no argument, with return value(s)\n",
    "    * argument(s), no return value(s) (void)\n",
    "    * argument(s), with return value(s)\n",
    "* Technically, a function can only have one return value, but it can be a collection\n",
    "* Functions often used to encapsulate an important alogorithm"
   ]
  },
  {
   "cell_type": "code",
   "execution_count": 7,
   "id": "rough-asset",
   "metadata": {},
   "outputs": [],
   "source": [
    "from collections import Counter"
   ]
  },
  {
   "cell_type": "code",
   "execution_count": 8,
   "id": "vietnamese-billy",
   "metadata": {},
   "outputs": [],
   "source": [
    "f = open('desolation_row.txt')\n",
    "data = f.read()\n",
    "f.close()\n",
    "punctuation = '.,;:!?\"'\n",
    "\n",
    "for mark in punctuation:\n",
    "    data = data.replace(mark, '')\n",
    "words = data.lower().split()\n",
    "counted_words = Counter(words)"
   ]
  },
  {
   "cell_type": "code",
   "execution_count": null,
   "id": "monetary-plasma",
   "metadata": {},
   "outputs": [],
   "source": []
  },
  {
   "cell_type": "markdown",
   "id": "distinct-sweet",
   "metadata": {},
   "source": [
    "### Function Examples"
   ]
  },
  {
   "cell_type": "code",
   "execution_count": null,
   "id": "happy-forestry",
   "metadata": {},
   "outputs": [],
   "source": [
    "# pass acts as a placeholder\n",
    "def some_algorithm():\n",
    "    pass\n",
    "# to execute a function, you \"call\" it\n",
    "some_algorithm()"
   ]
  },
  {
   "cell_type": "code",
   "execution_count": 10,
   "id": "southern-stable",
   "metadata": {},
   "outputs": [],
   "source": [
    "# no argument, no return\n",
    "def address():\n",
    "    print(\"Babson College\")\n",
    "    print(\"231 Forest St\")\n",
    "    print(\"Wellesley, MA 02457\")"
   ]
  },
  {
   "cell_type": "code",
   "execution_count": 11,
   "id": "b2f37ff2",
   "metadata": {},
   "outputs": [
    {
     "name": "stdout",
     "output_type": "stream",
     "text": [
      "Babson College\n",
      "231 Forest St\n",
      "Wellesley, MA 02457\n"
     ]
    }
   ],
   "source": [
    "address()"
   ]
  },
  {
   "cell_type": "code",
   "execution_count": 12,
   "id": "nutritional-surname",
   "metadata": {},
   "outputs": [],
   "source": [
    "# no argument, with return\n",
    "def return_address():\n",
    "    return f\"Babson College\\n231 Forest St\\nWellesley, MA 02457\""
   ]
  },
  {
   "cell_type": "code",
   "execution_count": 15,
   "id": "d35649e6",
   "metadata": {},
   "outputs": [
    {
     "name": "stdout",
     "output_type": "stream",
     "text": [
      "Babson College\n",
      "231 Forest St\n",
      "Wellesley, MA 02457\n"
     ]
    }
   ],
   "source": [
    "address = return_address()\n",
    "print(address)"
   ]
  },
  {
   "cell_type": "code",
   "execution_count": 16,
   "id": "coated-problem",
   "metadata": {},
   "outputs": [],
   "source": [
    "# Argument(s) and return\n",
    "def sqrt(x):\n",
    "    return x ** .5"
   ]
  },
  {
   "cell_type": "code",
   "execution_count": 20,
   "id": "separate-franklin",
   "metadata": {},
   "outputs": [
    {
     "data": {
      "text/plain": [
       "3.1622776601683795"
      ]
     },
     "execution_count": 20,
     "metadata": {},
     "output_type": "execute_result"
    }
   ],
   "source": [
    "# documentation\n",
    "\n",
    "x = 10\n",
    "sqrt(x)"
   ]
  },
  {
   "cell_type": "markdown",
   "id": "convertible-morrison",
   "metadata": {},
   "source": [
    "### Optional arguments"
   ]
  },
  {
   "cell_type": "code",
   "execution_count": 27,
   "id": "decimal-dover",
   "metadata": {},
   "outputs": [],
   "source": [
    "def cube_or_square(x, square = True):\n",
    "    if square:\n",
    "        return x ** 2\n",
    "    else:\n",
    "        return x ** 3"
   ]
  },
  {
   "cell_type": "code",
   "execution_count": 32,
   "id": "coordinate-prince",
   "metadata": {},
   "outputs": [
    {
     "data": {
      "text/plain": [
       "1000"
      ]
     },
     "execution_count": 32,
     "metadata": {},
     "output_type": "execute_result"
    }
   ],
   "source": [
    "cube_or_square(x,square = False)"
   ]
  },
  {
   "cell_type": "markdown",
   "id": "elegant-ballot",
   "metadata": {},
   "source": [
    "### Boolean functions"
   ]
  },
  {
   "cell_type": "code",
   "execution_count": 21,
   "id": "rural-southeast",
   "metadata": {},
   "outputs": [],
   "source": [
    "def is_odd(integer):\n",
    "    \"\"\"Returns True or False when integer evaluates to odd or even\"\"\"\n",
    "    if integer % 2:\n",
    "        return True\n",
    "    else:\n",
    "        return False\n",
    "    "
   ]
  },
  {
   "cell_type": "code",
   "execution_count": 26,
   "id": "saving-beads",
   "metadata": {},
   "outputs": [
    {
     "data": {
      "text/plain": [
       "True"
      ]
     },
     "execution_count": 26,
     "metadata": {},
     "output_type": "execute_result"
    }
   ],
   "source": [
    "is_odd(4.1)"
   ]
  },
  {
   "cell_type": "markdown",
   "id": "disabled-japanese",
   "metadata": {},
   "source": [
    "### Algorithmic functions"
   ]
  },
  {
   "cell_type": "code",
   "execution_count": 2,
   "id": "interstate-third",
   "metadata": {},
   "outputs": [],
   "source": [
    "def adder(low, high):\n",
    "    total = 0\n",
    "    while low <= high:\n",
    "        total += low\n",
    "        low += 1\n",
    "    return total    "
   ]
  },
  {
   "cell_type": "code",
   "execution_count": 6,
   "id": "elementary-convertible",
   "metadata": {},
   "outputs": [
    {
     "data": {
      "text/plain": [
       "120300"
      ]
     },
     "execution_count": 6,
     "metadata": {},
     "output_type": "execute_result"
    }
   ],
   "source": [
    "total = adder(100,500)\n",
    "total"
   ]
  },
  {
   "cell_type": "code",
   "execution_count": 9,
   "id": "practical-playback",
   "metadata": {},
   "outputs": [
    {
     "data": {
      "text/plain": [
       "12400000.0"
      ]
     },
     "execution_count": 9,
     "metadata": {},
     "output_type": "execute_result"
    }
   ],
   "source": [
    "1.24e7"
   ]
  },
  {
   "cell_type": "code",
   "execution_count": 10,
   "id": "ab82c496",
   "metadata": {},
   "outputs": [
    {
     "data": {
      "text/plain": [
       "1000000000"
      ]
     },
     "execution_count": 10,
     "metadata": {},
     "output_type": "execute_result"
    }
   ],
   "source": [
    "1_000_000_000"
   ]
  },
  {
   "cell_type": "code",
   "execution_count": 11,
   "id": "bbf2315c",
   "metadata": {},
   "outputs": [
    {
     "ename": "TypeError",
     "evalue": "'float' object cannot be interpreted as an integer",
     "output_type": "error",
     "traceback": [
      "\u001b[1;31m---------------------------------------------------------------------------\u001b[0m",
      "\u001b[1;31mTypeError\u001b[0m                                 Traceback (most recent call last)",
      "\u001b[1;32m~\\AppData\\Local\\Temp/ipykernel_19944/521659344.py\u001b[0m in \u001b[0;36m<module>\u001b[1;34m\u001b[0m\n\u001b[1;32m----> 1\u001b[1;33m \u001b[1;32mfor\u001b[0m \u001b[0mi\u001b[0m \u001b[1;32min\u001b[0m \u001b[0mrange\u001b[0m\u001b[1;33m(\u001b[0m\u001b[1;36m1e2\u001b[0m\u001b[1;33m)\u001b[0m\u001b[1;33m:\u001b[0m\u001b[1;33m\u001b[0m\u001b[1;33m\u001b[0m\u001b[0m\n\u001b[0m\u001b[0;32m      2\u001b[0m \u001b[1;33m\u001b[0m\u001b[0m\n\u001b[0;32m      3\u001b[0m     \u001b[0mprint\u001b[0m\u001b[1;33m(\u001b[0m\u001b[0mi\u001b[0m\u001b[1;33m)\u001b[0m\u001b[1;33m\u001b[0m\u001b[1;33m\u001b[0m\u001b[0m\n",
      "\u001b[1;31mTypeError\u001b[0m: 'float' object cannot be interpreted as an integer"
     ]
    }
   ],
   "source": [
    "for i in range(1e2):\n",
    "    \n",
    "    print(i)"
   ]
  },
  {
   "cell_type": "code",
   "execution_count": 12,
   "id": "dff07a5d",
   "metadata": {},
   "outputs": [],
   "source": [
    "def sci_note(number):\n",
    "    exp = 0\n",
    "    scientific = number\n",
    "    while scientific > 10:\n",
    "        scientific /= 10\n",
    "    while number > 10:\n",
    "        number //= 10\n",
    "        exp += 1\n",
    "    return f\"{scientific:.2f}e{exp}\"    "
   ]
  },
  {
   "cell_type": "code",
   "execution_count": 16,
   "id": "de011f57",
   "metadata": {},
   "outputs": [
    {
     "data": {
      "text/plain": [
       "'1.12e7'"
      ]
     },
     "execution_count": 16,
     "metadata": {},
     "output_type": "execute_result"
    }
   ],
   "source": [
    "sci_note(11234567)"
   ]
  },
  {
   "cell_type": "code",
   "execution_count": 14,
   "id": "4749e0ad",
   "metadata": {},
   "outputs": [
    {
     "data": {
      "text/plain": [
       "1230000.0"
      ]
     },
     "execution_count": 14,
     "metadata": {},
     "output_type": "execute_result"
    }
   ],
   "source": []
  },
  {
   "cell_type": "code",
   "execution_count": null,
   "id": "b7c0c045",
   "metadata": {},
   "outputs": [],
   "source": []
  },
  {
   "cell_type": "markdown",
   "id": "bb959ea4",
   "metadata": {},
   "source": [
    "### Variable Inputs (\\**args, ***kwargs)\n",
    "* allow for an unspecified number of inputs\n",
    "* args treats inputs as a tuple\n",
    "* kwargs treat as a dict\n",
    "* it's the * that matters not the name"
   ]
  },
  {
   "cell_type": "code",
   "execution_count": null,
   "id": "e9b9b1e2",
   "metadata": {},
   "outputs": [],
   "source": [
    "some_function(a,b,c,d,e)"
   ]
  },
  {
   "cell_type": "code",
   "execution_count": 18,
   "id": "d4e4b1f1",
   "metadata": {},
   "outputs": [],
   "source": [
    "a = 10\n",
    "b = 20\n",
    "c = 30"
   ]
  },
  {
   "cell_type": "code",
   "execution_count": 17,
   "id": "88f83e6e",
   "metadata": {},
   "outputs": [],
   "source": [
    "def adder(*values):\n",
    "    total = 0\n",
    "    for value in values:\n",
    "        total += value\n",
    "    return total"
   ]
  },
  {
   "cell_type": "code",
   "execution_count": 21,
   "id": "5046f8e8",
   "metadata": {},
   "outputs": [
    {
     "data": {
      "text/plain": [
       "60"
      ]
     },
     "execution_count": 21,
     "metadata": {},
     "output_type": "execute_result"
    }
   ],
   "source": [
    "adder(a,c,b)"
   ]
  },
  {
   "cell_type": "code",
   "execution_count": 22,
   "id": "f02e34c4",
   "metadata": {},
   "outputs": [],
   "source": [
    "d = list(range(1,11))"
   ]
  },
  {
   "cell_type": "code",
   "execution_count": 24,
   "id": "e8b6b7ed",
   "metadata": {},
   "outputs": [
    {
     "data": {
      "text/plain": [
       "55"
      ]
     },
     "execution_count": 24,
     "metadata": {},
     "output_type": "execute_result"
    }
   ],
   "source": [
    "adder(*d)"
   ]
  },
  {
   "cell_type": "code",
   "execution_count": 25,
   "id": "8b37e4d4",
   "metadata": {},
   "outputs": [
    {
     "data": {
      "text/plain": [
       "65"
      ]
     },
     "execution_count": 25,
     "metadata": {},
     "output_type": "execute_result"
    }
   ],
   "source": [
    "adder(*d,a)"
   ]
  },
  {
   "cell_type": "code",
   "execution_count": null,
   "id": "c379d314",
   "metadata": {},
   "outputs": [],
   "source": []
  },
  {
   "cell_type": "code",
   "execution_count": 26,
   "id": "5f0e99eb",
   "metadata": {},
   "outputs": [],
   "source": [
    "def printer(**kwargs):\n",
    "    for key, value in kwargs.items():\n",
    "        print(f\"{key} = {value}\")"
   ]
  },
  {
   "cell_type": "code",
   "execution_count": 28,
   "id": "739653d4",
   "metadata": {},
   "outputs": [
    {
     "name": "stdout",
     "output_type": "stream",
     "text": [
      "John = 32\n",
      "Bill = 44\n"
     ]
    }
   ],
   "source": [
    "printer(John = 32, Bill = 44)"
   ]
  },
  {
   "cell_type": "code",
   "execution_count": null,
   "id": "16a4976e",
   "metadata": {},
   "outputs": [],
   "source": []
  },
  {
   "cell_type": "code",
   "execution_count": null,
   "id": "a8057757",
   "metadata": {},
   "outputs": [],
   "source": []
  },
  {
   "cell_type": "code",
   "execution_count": null,
   "id": "9464293d",
   "metadata": {},
   "outputs": [],
   "source": []
  },
  {
   "cell_type": "code",
   "execution_count": null,
   "id": "f5727ade",
   "metadata": {},
   "outputs": [],
   "source": []
  },
  {
   "cell_type": "code",
   "execution_count": null,
   "id": "fb4c3580",
   "metadata": {},
   "outputs": [],
   "source": []
  },
  {
   "cell_type": "code",
   "execution_count": null,
   "id": "ac03e103",
   "metadata": {},
   "outputs": [],
   "source": []
  },
  {
   "cell_type": "code",
   "execution_count": null,
   "id": "155695ff",
   "metadata": {},
   "outputs": [],
   "source": []
  },
  {
   "cell_type": "code",
   "execution_count": null,
   "id": "6c1b7df3",
   "metadata": {},
   "outputs": [],
   "source": []
  }
 ],
 "metadata": {
  "kernelspec": {
   "display_name": "Python 3 (ipykernel)",
   "language": "python",
   "name": "python3"
  },
  "language_info": {
   "codemirror_mode": {
    "name": "ipython",
    "version": 3
   },
   "file_extension": ".py",
   "mimetype": "text/x-python",
   "name": "python",
   "nbconvert_exporter": "python",
   "pygments_lexer": "ipython3",
   "version": "3.9.7"
  }
 },
 "nbformat": 4,
 "nbformat_minor": 5
}
