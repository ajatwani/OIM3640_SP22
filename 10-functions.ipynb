{
 "cells": [
  {
   "cell_type": "markdown",
   "id": "accompanied-wedding",
   "metadata": {},
   "source": [
    "# User Defined Functions\n",
    "* Allow for creation and management of larger programs\n",
    "* Allows for complexity to be separated from program flow\n",
    "* Can minmimize code redundency\n",
    "* Functions can be used to package scripts for use and reuse\n",
    "* Allow us to organize code more effectively\n",
    "* Types:\n",
    "    * no argument, no return value(s) (void)\n",
    "    * no argument, with return value(s)\n",
    "    * argument(s), no return value(s) (void)\n",
    "    * argument(s), with return value(s)\n",
    "* Technically, a function can only have one return value, but it can be a collection\n",
    "* Functions often used to encapsulate an important alogorithm"
   ]
  },
  {
   "cell_type": "code",
   "execution_count": 7,
   "id": "rough-asset",
   "metadata": {},
   "outputs": [],
   "source": [
    "from collections import Counter"
   ]
  },
  {
   "cell_type": "code",
   "execution_count": 8,
   "id": "vietnamese-billy",
   "metadata": {},
   "outputs": [],
   "source": [
    "f = open('desolation_row.txt')\n",
    "data = f.read()\n",
    "f.close()\n",
    "punctuation = '.,;:!?\"'\n",
    "\n",
    "for mark in punctuation:\n",
    "    data = data.replace(mark, '')\n",
    "words = data.lower().split()\n",
    "counted_words = Counter(words)"
   ]
  },
  {
   "cell_type": "code",
   "execution_count": null,
   "id": "monetary-plasma",
   "metadata": {},
   "outputs": [],
   "source": []
  },
  {
   "cell_type": "markdown",
   "id": "distinct-sweet",
   "metadata": {},
   "source": [
    "### Function Examples"
   ]
  },
  {
   "cell_type": "code",
   "execution_count": null,
   "id": "happy-forestry",
   "metadata": {},
   "outputs": [],
   "source": [
    "# pass acts as a placeholder\n",
    "def some_algorithm():\n",
    "    pass\n",
    "# to execute a function, you \"call\" it\n",
    "some_algorithm()"
   ]
  },
  {
   "cell_type": "code",
   "execution_count": 10,
   "id": "southern-stable",
   "metadata": {},
   "outputs": [],
   "source": [
    "# no argument, no return\n",
    "def address():\n",
    "    print(\"Babson College\")\n",
    "    print(\"231 Forest St\")\n",
    "    print(\"Wellesley, MA 02457\")"
   ]
  },
  {
   "cell_type": "code",
   "execution_count": 11,
   "id": "b2f37ff2",
   "metadata": {},
   "outputs": [
    {
     "name": "stdout",
     "output_type": "stream",
     "text": [
      "Babson College\n",
      "231 Forest St\n",
      "Wellesley, MA 02457\n"
     ]
    }
   ],
   "source": [
    "address()"
   ]
  },
  {
   "cell_type": "code",
   "execution_count": 12,
   "id": "nutritional-surname",
   "metadata": {},
   "outputs": [],
   "source": [
    "# no argument, with return\n",
    "def return_address():\n",
    "    return f\"Babson College\\n231 Forest St\\nWellesley, MA 02457\""
   ]
  },
  {
   "cell_type": "code",
   "execution_count": 15,
   "id": "d35649e6",
   "metadata": {},
   "outputs": [
    {
     "name": "stdout",
     "output_type": "stream",
     "text": [
      "Babson College\n",
      "231 Forest St\n",
      "Wellesley, MA 02457\n"
     ]
    }
   ],
   "source": [
    "address = return_address()\n",
    "print(address)"
   ]
  },
  {
   "cell_type": "code",
   "execution_count": 16,
   "id": "coated-problem",
   "metadata": {},
   "outputs": [],
   "source": [
    "# Argument(s) and return\n",
    "def sqrt(x):\n",
    "    return x ** .5"
   ]
  },
  {
   "cell_type": "code",
   "execution_count": 20,
   "id": "separate-franklin",
   "metadata": {},
   "outputs": [
    {
     "data": {
      "text/plain": [
       "3.1622776601683795"
      ]
     },
     "execution_count": 20,
     "metadata": {},
     "output_type": "execute_result"
    }
   ],
   "source": [
    "# documentation\n",
    "\n",
    "x = 10\n",
    "sqrt(x)"
   ]
  },
  {
   "cell_type": "markdown",
   "id": "convertible-morrison",
   "metadata": {},
   "source": [
    "### Optional arguments"
   ]
  },
  {
   "cell_type": "code",
   "execution_count": 27,
   "id": "decimal-dover",
   "metadata": {},
   "outputs": [],
   "source": [
    "def cube_or_square(x, square = True):\n",
    "    if square:\n",
    "        return x ** 2\n",
    "    else:\n",
    "        return x ** 3"
   ]
  },
  {
   "cell_type": "code",
   "execution_count": 32,
   "id": "coordinate-prince",
   "metadata": {},
   "outputs": [
    {
     "data": {
      "text/plain": [
       "1000"
      ]
     },
     "execution_count": 32,
     "metadata": {},
     "output_type": "execute_result"
    }
   ],
   "source": [
    "cube_or_square(x,square = False)"
   ]
  },
  {
   "cell_type": "markdown",
   "id": "elegant-ballot",
   "metadata": {},
   "source": [
    "### Boolean functions"
   ]
  },
  {
   "cell_type": "code",
   "execution_count": 21,
   "id": "rural-southeast",
   "metadata": {},
   "outputs": [],
   "source": [
    "def is_odd(integer):\n",
    "    \"\"\"Returns True or False when integer evaluates to odd or even\"\"\"\n",
    "    if integer % 2:\n",
    "        return True\n",
    "    else:\n",
    "        return False\n",
    "    "
   ]
  },
  {
   "cell_type": "code",
   "execution_count": 26,
   "id": "saving-beads",
   "metadata": {},
   "outputs": [
    {
     "data": {
      "text/plain": [
       "True"
      ]
     },
     "execution_count": 26,
     "metadata": {},
     "output_type": "execute_result"
    }
   ],
   "source": [
    "is_odd(4.1)"
   ]
  },
  {
   "cell_type": "markdown",
   "id": "disabled-japanese",
   "metadata": {},
   "source": [
    "### Algorithmic functions"
   ]
  },
  {
   "cell_type": "code",
   "execution_count": null,
   "id": "interstate-third",
   "metadata": {},
   "outputs": [],
   "source": []
  },
  {
   "cell_type": "code",
   "execution_count": null,
   "id": "elementary-convertible",
   "metadata": {},
   "outputs": [],
   "source": []
  },
  {
   "cell_type": "code",
   "execution_count": null,
   "id": "practical-playback",
   "metadata": {},
   "outputs": [],
   "source": []
  },
  {
   "cell_type": "markdown",
   "id": "bb959ea4",
   "metadata": {},
   "source": [
    "### Variable Inputs (\\**args, ***kwargs)\n",
    "* allow for an unspecified number of inputs\n",
    "* args treats inputs as a tuple\n",
    "* kwargs treat as a dict\n",
    "* it's the * that matters not the name"
   ]
  },
  {
   "cell_type": "code",
   "execution_count": null,
   "id": "e9b9b1e2",
   "metadata": {},
   "outputs": [],
   "source": []
  },
  {
   "cell_type": "code",
   "execution_count": 43,
   "id": "d4e4b1f1",
   "metadata": {},
   "outputs": [],
   "source": [
    "a = 10\n",
    "b = 20\n",
    "c = 30"
   ]
  },
  {
   "cell_type": "code",
   "execution_count": null,
   "id": "88f83e6e",
   "metadata": {},
   "outputs": [],
   "source": []
  },
  {
   "cell_type": "code",
   "execution_count": null,
   "id": "5046f8e8",
   "metadata": {},
   "outputs": [],
   "source": []
  },
  {
   "cell_type": "code",
   "execution_count": null,
   "id": "f02e34c4",
   "metadata": {},
   "outputs": [],
   "source": []
  },
  {
   "cell_type": "code",
   "execution_count": null,
   "id": "e8b6b7ed",
   "metadata": {},
   "outputs": [],
   "source": []
  },
  {
   "cell_type": "code",
   "execution_count": null,
   "id": "8b37e4d4",
   "metadata": {},
   "outputs": [],
   "source": []
  }
 ],
 "metadata": {
  "kernelspec": {
   "display_name": "Python 3 (ipykernel)",
   "language": "python",
   "name": "python3"
  },
  "language_info": {
   "codemirror_mode": {
    "name": "ipython",
    "version": 3
   },
   "file_extension": ".py",
   "mimetype": "text/x-python",
   "name": "python",
   "nbconvert_exporter": "python",
   "pygments_lexer": "ipython3",
   "version": "3.9.7"
  }
 },
 "nbformat": 4,
 "nbformat_minor": 5
}
