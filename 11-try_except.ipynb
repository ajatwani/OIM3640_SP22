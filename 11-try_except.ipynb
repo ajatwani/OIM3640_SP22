{
 "cells": [
  {
   "cell_type": "markdown",
   "id": "7fcc5898",
   "metadata": {},
   "source": [
    "# Handling Exceptions\n",
    "* So far we have tested input with structures like if, and while\n",
    "* In addition Python has a structure meant to specifically trap errors\n",
    "* this allows programs to continue even after ancountering an error\n",
    "* Python hasa number of built-in Exception messages --> part of Exception class\n",
    "* You can also define your own exceptions"
   ]
  },
  {
   "cell_type": "code",
   "execution_count": 1,
   "id": "145b1de0",
   "metadata": {},
   "outputs": [
    {
     "name": "stdout",
     "output_type": "stream",
     "text": [
      "0.5\n"
     ]
    },
    {
     "ename": "TypeError",
     "evalue": "unsupported operand type(s) for /: 'str' and 'int'",
     "output_type": "error",
     "traceback": [
      "\u001b[1;31m---------------------------------------------------------------------------\u001b[0m",
      "\u001b[1;31mTypeError\u001b[0m                                 Traceback (most recent call last)",
      "\u001b[1;32m~\\AppData\\Local\\Temp/ipykernel_10104/67145840.py\u001b[0m in \u001b[0;36m<module>\u001b[1;34m\u001b[0m\n\u001b[0;32m      1\u001b[0m \u001b[0mvalues\u001b[0m \u001b[1;33m=\u001b[0m \u001b[1;33m[\u001b[0m\u001b[1;33m(\u001b[0m\u001b[1;36m1\u001b[0m\u001b[1;33m,\u001b[0m \u001b[1;36m2\u001b[0m\u001b[1;33m)\u001b[0m\u001b[1;33m,\u001b[0m \u001b[1;33m(\u001b[0m\u001b[1;34m'5'\u001b[0m\u001b[1;33m,\u001b[0m \u001b[1;36m6\u001b[0m\u001b[1;33m)\u001b[0m\u001b[1;33m,\u001b[0m \u001b[1;33m(\u001b[0m\u001b[1;36m5\u001b[0m\u001b[1;33m,\u001b[0m \u001b[1;36m4\u001b[0m\u001b[1;33m)\u001b[0m\u001b[1;33m,\u001b[0m \u001b[1;33m(\u001b[0m\u001b[1;36m0\u001b[0m\u001b[1;33m,\u001b[0m \u001b[1;36m0\u001b[0m\u001b[1;33m)\u001b[0m\u001b[1;33m]\u001b[0m\u001b[1;33m\u001b[0m\u001b[1;33m\u001b[0m\u001b[0m\n\u001b[0;32m      2\u001b[0m \u001b[1;32mfor\u001b[0m \u001b[0mval1\u001b[0m\u001b[1;33m,\u001b[0m \u001b[0mval2\u001b[0m \u001b[1;32min\u001b[0m \u001b[0mvalues\u001b[0m\u001b[1;33m:\u001b[0m\u001b[1;33m\u001b[0m\u001b[1;33m\u001b[0m\u001b[0m\n\u001b[1;32m----> 3\u001b[1;33m     \u001b[0mresult\u001b[0m \u001b[1;33m=\u001b[0m \u001b[0mval1\u001b[0m \u001b[1;33m/\u001b[0m \u001b[0mval2\u001b[0m\u001b[1;33m\u001b[0m\u001b[1;33m\u001b[0m\u001b[0m\n\u001b[0m\u001b[0;32m      4\u001b[0m     \u001b[0mprint\u001b[0m\u001b[1;33m(\u001b[0m\u001b[0mresult\u001b[0m\u001b[1;33m)\u001b[0m\u001b[1;33m\u001b[0m\u001b[1;33m\u001b[0m\u001b[0m\n",
      "\u001b[1;31mTypeError\u001b[0m: unsupported operand type(s) for /: 'str' and 'int'"
     ]
    }
   ],
   "source": [
    "values = [(1, 2), ('5', 6), (5, 4), (0, 0)]\n",
    "for val1, val2 in values:\n",
    "    result = val1 / val2\n",
    "    print(result)"
   ]
  },
  {
   "cell_type": "code",
   "execution_count": 2,
   "id": "516e1b1d",
   "metadata": {},
   "outputs": [
    {
     "name": "stdout",
     "output_type": "stream",
     "text": [
      "0.5\n",
      "That doesn't work\n",
      "1.25\n",
      "That doesn't work\n"
     ]
    }
   ],
   "source": [
    "values = [(1, 2), ('5', 6), (5, 4), (0, 0)]\n",
    "for val1, val2 in values:\n",
    "    try:\n",
    "        result = val1 / val2\n",
    "        print(result)\n",
    "    except:\n",
    "        print(\"That doesn't work\")\n"
   ]
  },
  {
   "cell_type": "code",
   "execution_count": null,
   "id": "ffd860c8",
   "metadata": {},
   "outputs": [],
   "source": [
    "# catch error and tell us what it is\n",
    "values = [(1, 2), ('5', 6), (5, 4), (0, 0)]\n",
    "for val1, val2 in values:\n",
    "    try:\n",
    "        result = val1 / val2\n",
    "        print(result)\n",
    "    except Exception as e:\n",
    "        print(f\"That's a {e}. Too bad!\")"
   ]
  },
  {
   "cell_type": "code",
   "execution_count": 18,
   "id": "8441196e",
   "metadata": {},
   "outputs": [
    {
     "name": "stdout",
     "output_type": "stream",
     "text": [
      "0.5\n",
      "That's a unsupported operand type(s) for /: 'str' and 'int'. Too bad!\n",
      "1.25\n",
      "That's a division by zero. Too bad!\n"
     ]
    }
   ],
   "source": [
    "# this one only catches Type and Zero division errors, anything else will cause crash\n",
    "values = [(1, 2), ('5', 6), (5, 4), (0, 0)]\n",
    "for val1, val2 in values:\n",
    "    try:\n",
    "        result = val1 / val2\n",
    "        print(result)\n",
    "    except TypeError as e:\n",
    "        print(f\"That's a {e}. Too bad!\")\n",
    "    except ZeroDivisionError as e:\n",
    "        print(f\"That's a {e}. Too bad!\")"
   ]
  },
  {
   "cell_type": "code",
   "execution_count": 17,
   "id": "575ba1de",
   "metadata": {},
   "outputs": [
    {
     "name": "stdout",
     "output_type": "stream",
     "text": [
      "0.5\n",
      "That's a unsupported operand type(s) for /: 'str' and 'int'. Too bad!\n",
      "1.25\n",
      "That's a division by zero. Too bad!\n"
     ]
    }
   ],
   "source": [
    "\n",
    "    "
   ]
  },
  {
   "cell_type": "code",
   "execution_count": null,
   "id": "fda99300",
   "metadata": {},
   "outputs": [],
   "source": []
  },
  {
   "cell_type": "code",
   "execution_count": null,
   "id": "bbd05177",
   "metadata": {},
   "outputs": [],
   "source": []
  },
  {
   "cell_type": "code",
   "execution_count": null,
   "id": "278691d0",
   "metadata": {},
   "outputs": [],
   "source": []
  }
 ],
 "metadata": {
  "kernelspec": {
   "display_name": "Python 3 (ipykernel)",
   "language": "python",
   "name": "python3"
  },
  "language_info": {
   "codemirror_mode": {
    "name": "ipython",
    "version": 3
   },
   "file_extension": ".py",
   "mimetype": "text/x-python",
   "name": "python",
   "nbconvert_exporter": "python",
   "pygments_lexer": "ipython3",
   "version": "3.9.7"
  }
 },
 "nbformat": 4,
 "nbformat_minor": 5
}
